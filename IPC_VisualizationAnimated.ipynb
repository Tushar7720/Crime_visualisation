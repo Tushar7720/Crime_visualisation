{
 "cells": [
  {
   "cell_type": "code",
   "execution_count": 1,
   "metadata": {},
   "outputs": [],
   "source": [
    "import pandas as pd\n",
    "import numpy as np\n",
    "\n"
   ]
  },
  {
   "cell_type": "code",
   "execution_count": 2,
   "metadata": {},
   "outputs": [
    {
     "data": {
      "text/plain": [
       "0         ANDHRA PRADESH\n",
       "1      ARUNACHAL PRADESH\n",
       "2                  ASSAM\n",
       "3                  BIHAR\n",
       "4           CHHATTISGARH\n",
       "             ...        \n",
       "823          DAMAN & DIU\n",
       "824                DELHI\n",
       "825          LAKSHADWEEP\n",
       "826           PUDUCHERRY\n",
       "827                INDIA\n",
       "Name: STATE/UT, Length: 828, dtype: object"
      ]
     },
     "execution_count": 2,
     "metadata": {},
     "output_type": "execute_result"
    }
   ],
   "source": [
    "cdf = pd.read_csv(\"C://Users//dell//Desktop//Indian-Crime-Prediction-and-Visualization-Online-Platform-master//static//StateIPCPred2001_16.csv\")\n",
    "cdf[\"STATE/UT\"].str.upper()"
   ]
  },
  {
   "cell_type": "code",
   "execution_count": 5,
   "metadata": {},
   "outputs": [
    {
     "name": "stdout",
     "output_type": "stream",
     "text": [
      "            State_UT  Population_Persons_2001  Population_Persons_2011  \\\n",
      "0  JAMMU AND KASHMIR                 10143700                 12548926   \n",
      "1   HIMACHAL PRADESH                  6077900                  6856509   \n",
      "2             PUNJAB                 24358999                 27704236   \n",
      "3         CHANDIGARH                   900635                  1054686   \n",
      "4        UTTARAKHAND                  8489349                 10116752   \n",
      "\n",
      "   Number_of_literates_Persons_2001  Number_of_literates_Persons_2011  \\\n",
      "0                              55.5                             68.74   \n",
      "1                              76.5                             83.78   \n",
      "2                              69.7                             76.68   \n",
      "3                              81.9                             86.43   \n",
      "4                              71.6                             79.63   \n",
      "\n",
      "    diffPop  diffLitracy  \n",
      "0  240522.6        1.324  \n",
      "1   77860.9        0.728  \n",
      "2  334523.7        0.698  \n",
      "3   15405.1        0.453  \n",
      "4  162740.3        0.803  \n",
      "10143700.0\n",
      "JAMMU AND KASHMIR\n",
      "[]\n",
      "[]\n"
     ]
    },
    {
     "ename": "IndexError",
     "evalue": "list index out of range",
     "output_type": "error",
     "traceback": [
      "\u001b[1;31m---------------------------------------------------------------------------\u001b[0m",
      "\u001b[1;31mIndexError\u001b[0m                                Traceback (most recent call last)",
      "\u001b[1;32m<ipython-input-5-8678ca61addd>\u001b[0m in \u001b[0;36m<module>\u001b[1;34m\u001b[0m\n\u001b[0;32m     39\u001b[0m                 \u001b[1;32mbreak\u001b[0m\u001b[1;33m\u001b[0m\u001b[1;33m\u001b[0m\u001b[0m\n\u001b[0;32m     40\u001b[0m         \u001b[0mprint\u001b[0m \u001b[1;33m(\u001b[0m\u001b[0mtest\u001b[0m\u001b[1;33m)\u001b[0m\u001b[1;33m\u001b[0m\u001b[1;33m\u001b[0m\u001b[0m\n\u001b[1;32m---> 41\u001b[1;33m         \u001b[0mCrimePerPop\u001b[0m \u001b[1;33m=\u001b[0m \u001b[1;33m(\u001b[0m\u001b[0mtest\u001b[0m\u001b[1;33m[\u001b[0m\u001b[1;36m23\u001b[0m\u001b[1;33m]\u001b[0m\u001b[1;33m/\u001b[0m\u001b[0mpop\u001b[0m\u001b[1;33m)\u001b[0m\u001b[1;33m*\u001b[0m\u001b[1;36m100000\u001b[0m\u001b[1;33m\u001b[0m\u001b[1;33m\u001b[0m\u001b[0m\n\u001b[0m\u001b[0;32m     42\u001b[0m         \u001b[0mlist\u001b[0m \u001b[1;33m=\u001b[0m \u001b[0mnp\u001b[0m\u001b[1;33m.\u001b[0m\u001b[0mappend\u001b[0m\u001b[1;33m(\u001b[0m\u001b[0mlist\u001b[0m\u001b[1;33m,\u001b[0m\u001b[0mCrimePerPop\u001b[0m\u001b[1;33m)\u001b[0m\u001b[1;33m\u001b[0m\u001b[1;33m\u001b[0m\u001b[0m\n\u001b[0;32m     43\u001b[0m         \u001b[0mdatf\u001b[0m \u001b[1;33m=\u001b[0m \u001b[0mpd\u001b[0m\u001b[1;33m.\u001b[0m\u001b[0mDataFrame\u001b[0m\u001b[1;33m(\u001b[0m\u001b[0mlist\u001b[0m\u001b[1;33m)\u001b[0m\u001b[1;33m\u001b[0m\u001b[1;33m\u001b[0m\u001b[0m\n",
      "\u001b[1;31mIndexError\u001b[0m: list index out of range"
     ]
    }
   ],
   "source": [
    "\n",
    "pdf = pd.read_csv(\"C://Users//dell//Desktop//Indian-Crime-Prediction-and-Visualization-Online-Platform-master//static//Population2001_11.csv\")\n",
    "cdf = pd.read_csv(\"C://Users//dell//Desktop//Indian-Crime-Prediction-and-Visualization-Online-Platform-master//static//StateIPCPred2001_16.csv\")\n",
    "\n",
    "\n",
    "print(pdf.head())\n",
    "\n",
    "test = []\n",
    "for j in pdf.iloc[:,:].values:\n",
    "    state = j[0]\n",
    "    pop_01 = j[1]\n",
    "    PopDiff = j[5]\n",
    "    LitDiff = j[6]\n",
    "    Lit_01 = j[3]\n",
    "    \n",
    "    for i in range(2001, 2016):\n",
    "        list = np.array([])\n",
    "        \n",
    "        list = np.append(list,state)\n",
    "        \n",
    "        list = np.append(list,i)\n",
    "        \n",
    "\n",
    "        \n",
    "        offset = (i - 2001)*PopDiff\n",
    "        pop = pop_01 + offset\n",
    "        print(pop)\n",
    "        list = np.append(list,pop)\n",
    "        \n",
    "        offset = (i - 2001)*LitDiff\n",
    "        Lit = Lit_01 + offset\n",
    "        Lit_per = (Lit)\n",
    "        list = np.append(list,Lit_per)\n",
    "        print(state)\n",
    "        data1 = cdf.loc[cdf[\"STATE/UT\"].str.upper()==state].values\n",
    "        print(data1)\n",
    "        for x in data1:\n",
    "            if x[1] == i:\n",
    "                test = x\n",
    "                break\n",
    "        print (test)\n",
    "        CrimePerPop = (test[23]/pop)*100000\n",
    "        list = np.append(list,CrimePerPop)\n",
    "        datf = pd.DataFrame(list)\n",
    "        datf = datf.transpose()\n",
    "        datf = datf.iloc[0,:].values\n",
    "        df = pd.DataFrame(datf,index=None, columns=None).transpose()\n",
    "        print (df.head())\n",
    "        df.to_csv(\"/home/shivam/Crime Project Trash/trial visuals/final.csv\", mode='a', header=False)\n",
    "\n",
    "\"\"\"\n",
    "summ = 0\n",
    "df = pd.read_csv('/home/shivam/BE_Project/BE_Project/static/hope (copy).csv')\n",
    "df['Total'] = df.sum(axis=1)\n",
    "with open(\"/home/shivam/BE_Project/BE_Project/static/final.csv\", 'wb') as f:\n",
    "    df.to_csv(f, header = True)\"\"\"\n",
    "\n",
    "        \n"
   ]
  },
  {
   "cell_type": "code",
   "execution_count": null,
   "metadata": {},
   "outputs": [],
   "source": []
  }
 ],
 "metadata": {
  "kernelspec": {
   "display_name": "Python 3",
   "language": "python",
   "name": "python3"
  },
  "language_info": {
   "codemirror_mode": {
    "name": "ipython",
    "version": 3
   },
   "file_extension": ".py",
   "mimetype": "text/x-python",
   "name": "python",
   "nbconvert_exporter": "python",
   "pygments_lexer": "ipython3",
   "version": "3.8.8"
  }
 },
 "nbformat": 4,
 "nbformat_minor": 2
}
